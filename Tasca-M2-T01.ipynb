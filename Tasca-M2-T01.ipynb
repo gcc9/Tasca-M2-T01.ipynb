# Exercici 1 Crea una llista que agrupi els mesos de l’any en trimestres (1T: gener, febrer i març; 2T: abril, maig, juny...),
# és a dir, una llista amb 4 llistes dins.
any = [["gener", "febrer", "març"], ["abril", "maig", "juny"], ["juliol", "agost", "setembre"],["octubre", "novembre", "desembre"]]
print (Any)

#_________________________________

#- Exercici 2
#Crea un codi que et permeti accedir a:
## El segon mes del primer trimestre.
print (any [0][1])

## Els mesos del primer trimestre.
print (any [0])
    
##Setembre i octubre.
print (any [2][2], any [3][0])


#_________________________________

#- Exercici 3
#Crea una llista amb nombres desordenats i respon a les següents preguntes:

import random as rd
r = rd.randint(1,20)
x = (rd.sample(range(r),r))
print ("La lista es:", x)
    
    #Quants números hi ha?
    
print("La llista té ", len(x), " números")    
    
    #Quants números hi ha?
      
def count_num_3(x):
    count = 0
    for element in x: 
        count +=1
    return count
print("La llista té ",count_num_3(x), " números")
    
    #Quantes vegades apareix el número 3.   
    
def count_num_3(x):
    count = 0
    for element in x:
        if element==3: 
            count +=1
    return count
print("El número 3 apareix ", count_num_3(x), " cops/s")

    #Quantes vegades apareixen els nombres 3 i 4?
    
def count_num_3(x):
    count = 0
    for element in x:
        if element==3 or element==4: 
            count +=1
    return count
print("Els números 3 i 4 apareixen en total ", count_num_3(x), "cop/s")

    #Quin és el número més gran?
print ("El número més gran és: ", max(x))
    #Quins són els 3 números més petits?
y= sorted(x)
print("Els 3 números més petits són: ", y [0:3])

    #Quin és el rang d’aquesta llista?
print("El rang d'aquesta llista és de ", min(x), " a ", max(x))

#_________________________________

#- Exercici 4
#Crea un diccionari de la següent forma i respon a les preguntes:
#compra = { "Pomes" : {"Qty": 5, "€": 0.42}, "Peres" : {"Qty": 3, "€": 0.66} }
 


compra = { "Pomes" : {"Qty": 5, "€": 0.42}, "Peres" : {"Qty": 3, "€": 0.66} }
#print(compra)

#Afegeix alguna fruita més

compra ["Cireres"] = {}
compra ["Cireres"] ["Qty"] = 9
compra ["Cireres"] ["€"] = 0.99
print (compra)

#Afegeix alguna fruita més
compra ["Plàtans"] = {"Qty": 3, "€": 1.5}
print (compra)


#Quant han costat les peres en total?
Preu_peres = compra["Peres"]["Qty"] * compra["Peres"]["€"] 
print(Preu_peres)

#Quantes fruites hem comprat en total?
Qfruita = compra["Pomes"]["Qty"] + compra["Peres"]["Qty"]  + compra["Cireres"]["Qty"] + compra["Plàtans"]["Qty"]
print (Qfruita)

#Quantes fruites hem comprat en total?

Qfruita = sum(x["Qty"] for x in compra.values())
print(Qfruita)


#Quina és la fruita més cara?
Maxfruit= max(x["€"] for x in compra.values())
print(Maxfruit)

