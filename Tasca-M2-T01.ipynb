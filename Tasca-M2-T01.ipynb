# Exercici 1
#L'exercici consisteix a crear un programa que et classifiqui una variable numèrica en funció de l’escala Suspès/Aprovat/Notable/Excel·lent.
#Recorda que Suspès < 5, Aprovat > 5 i < 7, Notable > 7 i < 9 i Excel·lent > 9.

import random as rd
x = rd.randint(1,10)
print(x)

if x < 5: 
    print("Supès")
elif 5 <= x <7:
    print("Aprovat")
elif 7<= x < 9:
    print("Notable")
else:
    print("Excelent")
